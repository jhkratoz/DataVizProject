{
 "cells": [
  {
   "cell_type": "code",
   "execution_count": null,
   "metadata": {},
   "outputs": [],
   "source": [
    "import pandas as pd\n",
    "\n",
    "data = pd.read_parquet('src/data/data')"
   ]
  },
  {
   "cell_type": "code",
   "execution_count": null,
   "metadata": {},
   "outputs": [],
   "source": [
    "data['conversion'].unique()"
   ]
  },
  {
   "cell_type": "code",
   "execution_count": null,
   "metadata": {},
   "outputs": [],
   "source": [
    "data.head()"
   ]
  },
  {
   "cell_type": "code",
   "execution_count": null,
   "metadata": {},
   "outputs": [],
   "source": [
    "data['boosted'] = data['boosted'].apply(lambda x: int(x))\n",
    "y = pd.get_dummies(data.platform, prefix='platform')\n",
    "x = pd.get_dummies(data.device_type, prefix='device_type')"
   ]
  },
  {
   "cell_type": "code",
   "execution_count": null,
   "metadata": {},
   "outputs": [],
   "source": [
    "data = pd.concat([data,y,x], axis=1)\n",
    "df = data.query(\"taxonomy_level1=='Sports and Fitness'\")\n",
    "df"
   ]
  },
  {
   "cell_type": "code",
   "execution_count": null,
   "metadata": {},
   "outputs": [],
   "source": [
    "from sklearn.preprocessing import OneHotEncoder\n",
    "import math\n",
    "from sklearn.linear_model import LogisticRegression"
   ]
  },
  {
   "cell_type": "code",
   "execution_count": null,
   "metadata": {},
   "outputs": [],
   "source": [
    "d = {}\n",
    "for i in data['taxonomy_level1'].unique().tolist():\n",
    "    try:\n",
    "        df = data.query(f\"taxonomy_level1=='{i}'\")\n",
    "        df['price'] = df['price'].apply(lambda x: math.log(x))\n",
    "        X = df[['boosted','free_shipping','is_pdp','price','print_position','platform_mobile','device_type_desktop','device_type_ios','device_type_mobile']]\n",
    "        y = df['conversion']\n",
    "        clf = LogisticRegression(random_state=0).fit(X, y)\n",
    "        clf.score(X, y)\n",
    "        coef = clf.coef_[0].tolist()[4]\n",
    "        d[i] = coef\n",
    "    except:\n",
    "        pass\n"
   ]
  },
  {
   "cell_type": "code",
   "execution_count": null,
   "metadata": {},
   "outputs": [],
   "source": [
    "df = data.copy()\n",
    "df = df.query(\"taxonomy_level1 != 'Other categories'\")\n",
    "df['price'] = df['price'].apply(lambda x: math.log(x))\n",
    "X = df[['boosted','free_shipping','is_pdp','original_price','price','print_position','platform_mobile','device_type_desktop','device_type_ios','device_type_mobile']]\n",
    "y = df['conversion']\n",
    "clf = LogisticRegression(random_state=0).fit(X, y)\n",
    "clf.score(X, y)\n",
    "coef = clf.coef_[0].tolist()[4]\n",
    "d[i] = coef\n",
    "\n",
    "print([round(x,2) for x in clf.coef_[0].tolist()])"
   ]
  },
  {
   "cell_type": "code",
   "execution_count": null,
   "metadata": {},
   "outputs": [],
   "source": [
    "coef_df = pd.DataFrame({k: v*100 for k, v in sorted(d.items(), key=lambda item: item[1])}, index=['1']).T\n",
    "coef_df.reset_index(inplace=True)\n",
    "coef_df.columns=['taxonomy_level1','coef']\n"
   ]
  },
  {
   "cell_type": "code",
   "execution_count": null,
   "metadata": {},
   "outputs": [],
   "source": [
    "import matplotlib.pyplot as plt\n",
    "coef_df.iloc[:].plot.bar(x=\"taxonomy_level1\", y=\"coef\")\n",
    "plt.show()"
   ]
  },
  {
   "cell_type": "code",
   "execution_count": null,
   "metadata": {},
   "outputs": [],
   "source": [
    "clf = LogisticRegression(random_state=0).fit(X, y)\n",
    "clf.score(X, y)\n",
    "clf.coef_[0].tolist()[4]"
   ]
  },
  {
   "cell_type": "code",
   "execution_count": null,
   "metadata": {},
   "outputs": [],
   "source": [
    "import statsmodels.api as sm\n",
    "model = sm.OLS(y, X).fit()\n",
    "print(model.summary())"
   ]
  },
  {
   "cell_type": "code",
   "execution_count": null,
   "metadata": {},
   "outputs": [],
   "source": [
    "data['taxonomy_level1'].value_counts().reset_index()"
   ]
  },
  {
   "cell_type": "code",
   "execution_count": null,
   "metadata": {},
   "outputs": [],
   "source": [
    "import plotly.express as px\n",
    "\n",
    "violin_df = data.query(\"taxonomy_level1 in ('Home, Furniture and Garden','Clothes and accessories','Tools and Construction','Sports and Fitness','Beauty and Personal Care','Electronics, Audio and Video')\")\n",
    "print(violin_df)\n",
    "fig = px.violin(violin_df, y=\"price\", x=\"taxonomy_level1\", color=\"conversion\", box=True)\n",
    "fig"
   ]
  },
  {
   "cell_type": "code",
   "execution_count": null,
   "metadata": {},
   "outputs": [],
   "source": [
    "data.columns"
   ]
  },
  {
   "cell_type": "code",
   "execution_count": null,
   "metadata": {},
   "outputs": [],
   "source": [
    "import seaborn as sns\n",
    "import matplotlib.pyplot as plt\n",
    "sns.pairplot(data)\n",
    "plt.show()\n"
   ]
  },
  {
   "cell_type": "code",
   "execution_count": null,
   "metadata": {},
   "outputs": [],
   "source": [
    "sns.heatmap(data.drop(columns=['boosted']).corr().round(2), annot=True, annot_kws={\"size\": 7}, linewidths=0.1, linecolor='black')"
   ]
  }
 ],
 "metadata": {
  "kernelspec": {
   "display_name": "Python 3.10.8 64-bit (microsoft store)",
   "language": "python",
   "name": "python3"
  },
  "language_info": {
   "codemirror_mode": {
    "name": "ipython",
    "version": 3
   },
   "file_extension": ".py",
   "mimetype": "text/x-python",
   "name": "python",
   "nbconvert_exporter": "python",
   "pygments_lexer": "ipython3",
   "version": "3.10.8"
  },
  "orig_nbformat": 4,
  "vscode": {
   "interpreter": {
    "hash": "7e09721073e436e35d84ed4cdbbeb045311bd476b44317739da864ee086bb1be"
   }
  }
 },
 "nbformat": 4,
 "nbformat_minor": 2
}
