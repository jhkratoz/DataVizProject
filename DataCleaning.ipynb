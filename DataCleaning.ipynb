{
 "cells": [
  {
   "cell_type": "code",
   "execution_count": 1,
   "metadata": {},
   "outputs": [],
   "source": [
    "import pandas as pd"
   ]
  },
  {
   "cell_type": "code",
   "execution_count": 2,
   "metadata": {},
   "outputs": [],
   "source": [
    "#Read the data into DataFrames\n",
    "train = pd.read_csv('src/data/train.csv')\n",
    "test = pd.read_csv('src/data/test.csv')"
   ]
  },
  {
   "cell_type": "code",
   "execution_count": 3,
   "metadata": {},
   "outputs": [],
   "source": [
    "#merge the two datasets(we do not need them seperated)\n",
    "df = pd.concat([train,test])\n",
    "\n",
    "rename_mapper = {\n",
    "    'boosted':'boosted',\n",
    "    'full_name':'taxonomy_name',\n",
    "    'free_shipping':'free_shipping',\n",
    "    'conversion':'conversion',\n",
    "    'is_pdp':'is_pdp',\n",
    "    'logistic_type':'logistic_type',\n",
    "    'original_price':'original_price',\n",
    "    'platform':'platform',\n",
    "    'price':'price',\n",
    "    'print_position':'page_location',\n",
    "    'print_server_timestamp': 'display_date',\n",
    "    'title':'title'\n",
    "    }\n",
    "\n",
    "cols = list(rename_mapper.keys())"
   ]
  },
  {
   "cell_type": "code",
   "execution_count": 4,
   "metadata": {},
   "outputs": [
    {
     "data": {
      "text/plain": [
       "False    164017\n",
       "True      16744\n",
       "Name: conversion, dtype: int64"
      ]
     },
     "execution_count": 4,
     "metadata": {},
     "output_type": "execute_result"
    }
   ],
   "source": [
    "df['conversion'].value_counts()"
   ]
  },
  {
   "cell_type": "code",
   "execution_count": 5,
   "metadata": {},
   "outputs": [
    {
     "data": {
      "text/html": [
       "<div>\n",
       "<style scoped>\n",
       "    .dataframe tbody tr th:only-of-type {\n",
       "        vertical-align: middle;\n",
       "    }\n",
       "\n",
       "    .dataframe tbody tr th {\n",
       "        vertical-align: top;\n",
       "    }\n",
       "\n",
       "    .dataframe thead th {\n",
       "        text-align: right;\n",
       "    }\n",
       "</style>\n",
       "<table border=\"1\" class=\"dataframe\">\n",
       "  <thead>\n",
       "    <tr style=\"text-align: right;\">\n",
       "      <th></th>\n",
       "      <th>boosted</th>\n",
       "      <th>full_name</th>\n",
       "      <th>free_shipping</th>\n",
       "      <th>conversion</th>\n",
       "      <th>is_pdp</th>\n",
       "      <th>logistic_type</th>\n",
       "      <th>original_price</th>\n",
       "      <th>platform</th>\n",
       "      <th>price</th>\n",
       "      <th>print_position</th>\n",
       "      <th>print_server_timestamp</th>\n",
       "      <th>title</th>\n",
       "    </tr>\n",
       "  </thead>\n",
       "  <tbody>\n",
       "    <tr>\n",
       "      <th>0</th>\n",
       "      <td>False</td>\n",
       "      <td>Celulares y Teléfonos -&gt; Celulares y Smartphones</td>\n",
       "      <td>True</td>\n",
       "      <td>False</td>\n",
       "      <td>False</td>\n",
       "      <td>cross_docking</td>\n",
       "      <td>29999</td>\n",
       "      <td>/web/desktop</td>\n",
       "      <td>20999</td>\n",
       "      <td>1717</td>\n",
       "      <td>2020-03-06T00:19:30.735-0400</td>\n",
       "      <td>Motorola One Action 128 Gb Denim Blue 4 Gb Ram</td>\n",
       "    </tr>\n",
       "    <tr>\n",
       "      <th>1</th>\n",
       "      <td>False</td>\n",
       "      <td>Deportes y Fitness -&gt; Zapatillas</td>\n",
       "      <td>True</td>\n",
       "      <td>False</td>\n",
       "      <td>False</td>\n",
       "      <td>drop_off</td>\n",
       "      <td>6700</td>\n",
       "      <td>/mobile/android</td>\n",
       "      <td>3999</td>\n",
       "      <td>311</td>\n",
       "      <td>2020-04-01T21:20:11.738-0400</td>\n",
       "      <td>Zapatillas Hovr Sonic 2 Under Armour</td>\n",
       "    </tr>\n",
       "    <tr>\n",
       "      <th>2</th>\n",
       "      <td>False</td>\n",
       "      <td>Ropa y Accesorios -&gt; Pantalones, Jeans y Joggings</td>\n",
       "      <td>False</td>\n",
       "      <td>False</td>\n",
       "      <td>False</td>\n",
       "      <td>fulfillment</td>\n",
       "      <td>1490</td>\n",
       "      <td>/mobile/android</td>\n",
       "      <td>1341</td>\n",
       "      <td>1686</td>\n",
       "      <td>2020-04-08T18:38:48.360-0400</td>\n",
       "      <td>Pantalon Mujer Vestir Elastizado Tiro Alto Tal...</td>\n",
       "    </tr>\n",
       "    <tr>\n",
       "      <th>3</th>\n",
       "      <td>False</td>\n",
       "      <td>Juegos y Juguetes -&gt; Vehículos de Juguete -&gt; V...</td>\n",
       "      <td>True</td>\n",
       "      <td>False</td>\n",
       "      <td>False</td>\n",
       "      <td>fulfillment</td>\n",
       "      <td>3498</td>\n",
       "      <td>/web/mobile</td>\n",
       "      <td>3007</td>\n",
       "      <td>12</td>\n",
       "      <td>2020-04-25T22:01:19.829-0400</td>\n",
       "      <td>Trencity Pista N°3  - Kit Turbo Elevación + Pu...</td>\n",
       "    </tr>\n",
       "    <tr>\n",
       "      <th>4</th>\n",
       "      <td>False</td>\n",
       "      <td>Computación -&gt; Componentes de PC -&gt; Memorias RAM</td>\n",
       "      <td>False</td>\n",
       "      <td>False</td>\n",
       "      <td>False</td>\n",
       "      <td>cross_docking</td>\n",
       "      <td>1248</td>\n",
       "      <td>/mobile/android</td>\n",
       "      <td>998</td>\n",
       "      <td>511</td>\n",
       "      <td>2020-03-10T13:20:56.633-0400</td>\n",
       "      <td>Memoria Ram Ddr2 2gb 800mhz Samsung - Intel Y Amd</td>\n",
       "    </tr>\n",
       "  </tbody>\n",
       "</table>\n",
       "</div>"
      ],
      "text/plain": [
       "   boosted                                          full_name  free_shipping  \\\n",
       "0    False   Celulares y Teléfonos -> Celulares y Smartphones           True   \n",
       "1    False                   Deportes y Fitness -> Zapatillas           True   \n",
       "2    False  Ropa y Accesorios -> Pantalones, Jeans y Joggings          False   \n",
       "3    False  Juegos y Juguetes -> Vehículos de Juguete -> V...           True   \n",
       "4    False   Computación -> Componentes de PC -> Memorias RAM          False   \n",
       "\n",
       "  conversion is_pdp  logistic_type  original_price         platform  price  \\\n",
       "0      False  False  cross_docking           29999     /web/desktop  20999   \n",
       "1      False  False       drop_off            6700  /mobile/android   3999   \n",
       "2      False  False    fulfillment            1490  /mobile/android   1341   \n",
       "3      False  False    fulfillment            3498      /web/mobile   3007   \n",
       "4      False  False  cross_docking            1248  /mobile/android    998   \n",
       "\n",
       "   print_position        print_server_timestamp  \\\n",
       "0            1717  2020-03-06T00:19:30.735-0400   \n",
       "1             311  2020-04-01T21:20:11.738-0400   \n",
       "2            1686  2020-04-08T18:38:48.360-0400   \n",
       "3              12  2020-04-25T22:01:19.829-0400   \n",
       "4             511  2020-03-10T13:20:56.633-0400   \n",
       "\n",
       "                                               title  \n",
       "0     Motorola One Action 128 Gb Denim Blue 4 Gb Ram  \n",
       "1               Zapatillas Hovr Sonic 2 Under Armour  \n",
       "2  Pantalon Mujer Vestir Elastizado Tiro Alto Tal...  \n",
       "3  Trencity Pista N°3  - Kit Turbo Elevación + Pu...  \n",
       "4  Memoria Ram Ddr2 2gb 800mhz Samsung - Intel Y Amd  "
      ]
     },
     "execution_count": 5,
     "metadata": {},
     "output_type": "execute_result"
    }
   ],
   "source": [
    "df = df[cols].rename(rename_mapper)\n",
    "df.head(5)"
   ]
  },
  {
   "cell_type": "code",
   "execution_count": 6,
   "metadata": {},
   "outputs": [],
   "source": [
    "df['device_type'] = df['platform'].apply(lambda x: x.split('/')[2])\n",
    "df['platform'] = df['platform'].apply(lambda x: x.split('/')[1])\n",
    "df['taxonomy_level'] = df['full_name'].apply(lambda x: len(x.split('->'))+1)"
   ]
  },
  {
   "cell_type": "code",
   "execution_count": 7,
   "metadata": {},
   "outputs": [],
   "source": [
    "for row in range(0,len(df)):\n",
    "    if row%10000==0:\n",
    "        print(row)\n",
    "    split_tax = df.iloc[row]['full_name'].split('->')\n",
    "    for i in range(0,1):\n",
    "        try:\n",
    "            df[f'taxonomy_level{i+1}'] = split_tax[i]\n",
    "        except:\n",
    "            df[f'taxonomy_level{i+1}'] = None"
   ]
  },
  {
   "cell_type": "code",
   "execution_count": null,
   "metadata": {},
   "outputs": [],
   "source": [
    "df['conversion'].fillna(0)"
   ]
  },
  {
   "cell_type": "code",
   "execution_count": null,
   "metadata": {},
   "outputs": [],
   "source": [
    "true_false_cols = ['free_shipping','conversion','is_pdp']\n",
    "for col in true_false_cols:\n",
    "    df[col] = df[col].apply(lambda x: int(x))"
   ]
  },
  {
   "cell_type": "code",
   "execution_count": null,
   "metadata": {},
   "outputs": [],
   "source": [
    "df.to_parquet('src/data/data')"
   ]
  }
 ],
 "metadata": {
  "kernelspec": {
   "display_name": "Python 3.10.6 64-bit",
   "language": "python",
   "name": "python3"
  },
  "language_info": {
   "codemirror_mode": {
    "name": "ipython",
    "version": 3
   },
   "file_extension": ".py",
   "mimetype": "text/x-python",
   "name": "python",
   "nbconvert_exporter": "python",
   "pygments_lexer": "ipython3",
   "version": "3.10.6"
  },
  "orig_nbformat": 4,
  "vscode": {
   "interpreter": {
    "hash": "916dbcbb3f70747c44a77c7bcd40155683ae19c65e1c03b4aa3499c5328201f1"
   }
  }
 },
 "nbformat": 4,
 "nbformat_minor": 2
}
